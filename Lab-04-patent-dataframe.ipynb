{
 "cells": [
  {
   "cell_type": "markdown",
   "metadata": {},
   "source": [
    "# CSCI 4253 / 5253 - Lab #4 - Patent Problem with Spark DataFrames\n",
    "<div>\n",
    " <h2> CSCI 4283 / 5253 \n",
    "  <IMG SRC=\"https://www.colorado.edu/cs/profiles/express/themes/cuspirit/logo.png\" WIDTH=50 ALIGN=\"right\"/> </h2>\n",
    "</div>"
   ]
  },
  {
   "cell_type": "markdown",
   "metadata": {},
   "source": [
    "This [Spark cheatsheet](https://s3.amazonaws.com/assets.datacamp.com/blog_assets/PySpark_SQL_Cheat_Sheet_Python.pdf) is useful as is [this reference on doing joins in Spark dataframe](http://www.learnbymarketing.com/1100/pyspark-joins-by-example/).\n",
    "\n",
    "The [DataBricks company has one of the better reference manuals for PySpark](https://docs.databricks.com/spark/latest/dataframes-datasets/index.html) -- they show you how to perform numerous common data operations such as joins, aggregation operations following `groupBy` and the like."
   ]
  },
  {
   "cell_type": "code",
   "execution_count": 2,
   "metadata": {},
   "outputs": [],
   "source": [
    "from pyspark import SparkContext, SparkConf\n",
    "from pyspark.sql import SparkSession"
   ]
  },
  {
   "cell_type": "markdown",
   "metadata": {},
   "source": [
    "The following aggregation functions may be useful -- [these can be used to aggregate results of `groupby` operations](https://docs.databricks.com/spark/latest/dataframes-datasets/introduction-to-dataframes-python.html#example-aggregations-using-agg-and-countdistinct). More documentation is at the [PySpark SQL Functions manual](https://spark.apache.org/docs/2.3.0/api/python/pyspark.sql.html#module-pyspark.sql.functions). Feel free to use other functions from that library."
   ]
  },
  {
   "cell_type": "code",
   "execution_count": 3,
   "metadata": {},
   "outputs": [],
   "source": [
    "from pyspark.sql.functions import col, count, countDistinct"
   ]
  },
  {
   "cell_type": "markdown",
   "metadata": {},
   "source": [
    "Create our session as described in the tutorials"
   ]
  },
  {
   "cell_type": "code",
   "execution_count": 4,
   "metadata": {},
   "outputs": [],
   "source": [
    "spark = SparkSession \\\n",
    "    .builder \\\n",
    "    .appName(\"Lab4-Dataframe\") \\\n",
    "    .master(\"local[*]\")\\\n",
    "    .getOrCreate()"
   ]
  },
  {
   "cell_type": "markdown",
   "metadata": {},
   "source": [
    "Read in the citations and patents data and check that the data makes sense. Note that unlike in the RDD solution, the data is automatically inferred to be Integer() types."
   ]
  },
  {
   "cell_type": "code",
   "execution_count": 6,
   "metadata": {},
   "outputs": [],
   "source": [
    "citations = spark.read.load('cite75_99.txt.gz',\n",
    "            format=\"csv\", sep=\",\", header=True,\n",
    "            compression=\"gzip\",\n",
    "            inferSchema=\"true\")"
   ]
  },
  {
   "cell_type": "code",
   "execution_count": 7,
   "metadata": {},
   "outputs": [
    {
     "name": "stdout",
     "output_type": "stream",
     "text": [
      "+-------+-------+\n",
      "| CITING|  CITED|\n",
      "+-------+-------+\n",
      "|3858241| 956203|\n",
      "|3858241|1324234|\n",
      "|3858241|3398406|\n",
      "|3858241|3557384|\n",
      "|3858241|3634889|\n",
      "+-------+-------+\n",
      "only showing top 5 rows\n",
      "\n"
     ]
    }
   ],
   "source": [
    "citations.show(5)"
   ]
  },
  {
   "cell_type": "code",
   "execution_count": 8,
   "metadata": {},
   "outputs": [],
   "source": [
    "patents = spark.read.load('apat63_99.txt.gz',\n",
    "            format=\"csv\", sep=\",\", header=True,\n",
    "            compression=\"gzip\",\n",
    "            inferSchema=\"true\")"
   ]
  },
  {
   "cell_type": "code",
   "execution_count": 9,
   "metadata": {},
   "outputs": [
    {
     "name": "stdout",
     "output_type": "stream",
     "text": [
      "+-------+-----+-----+-------+-------+-------+--------+-------+------+------+---+------+-----+--------+--------+-------+--------+--------+--------+--------+--------+--------+--------+\n",
      "| PATENT|GYEAR|GDATE|APPYEAR|COUNTRY|POSTATE|ASSIGNEE|ASSCODE|CLAIMS|NCLASS|CAT|SUBCAT|CMADE|CRECEIVE|RATIOCIT|GENERAL|ORIGINAL|FWDAPLAG|BCKGTLAG|SELFCTUB|SELFCTLB|SECDUPBD|SECDLWBD|\n",
      "+-------+-----+-----+-------+-------+-------+--------+-------+------+------+---+------+-----+--------+--------+-------+--------+--------+--------+--------+--------+--------+--------+\n",
      "|3070801| 1963| 1096|   NULL|     BE|   NULL|    NULL|      1|  NULL|   269|  6|    69| NULL|       1|    NULL|    0.0|    NULL|    NULL|    NULL|    NULL|    NULL|    NULL|    NULL|\n",
      "|3070802| 1963| 1096|   NULL|     US|     TX|    NULL|      1|  NULL|     2|  6|    63| NULL|       0|    NULL|   NULL|    NULL|    NULL|    NULL|    NULL|    NULL|    NULL|    NULL|\n",
      "|3070803| 1963| 1096|   NULL|     US|     IL|    NULL|      1|  NULL|     2|  6|    63| NULL|       9|    NULL| 0.3704|    NULL|    NULL|    NULL|    NULL|    NULL|    NULL|    NULL|\n",
      "|3070804| 1963| 1096|   NULL|     US|     OH|    NULL|      1|  NULL|     2|  6|    63| NULL|       3|    NULL| 0.6667|    NULL|    NULL|    NULL|    NULL|    NULL|    NULL|    NULL|\n",
      "|3070805| 1963| 1096|   NULL|     US|     CA|    NULL|      1|  NULL|     2|  6|    63| NULL|       1|    NULL|    0.0|    NULL|    NULL|    NULL|    NULL|    NULL|    NULL|    NULL|\n",
      "+-------+-----+-----+-------+-------+-------+--------+-------+------+------+---+------+-----+--------+--------+-------+--------+--------+--------+--------+--------+--------+--------+\n",
      "only showing top 5 rows\n",
      "\n"
     ]
    }
   ],
   "source": [
    "patents.show(5)"
   ]
  },
  {
   "cell_type": "code",
   "execution_count": 10,
   "metadata": {},
   "outputs": [],
   "source": [
    "# MY SOLUTION:\n",
    "\n",
    "# Import additional functions we'll need\n",
    "from pyspark.sql.functions import col, count, countDistinct, sum as spark_sum, desc"
   ]
  },
  {
   "cell_type": "code",
   "execution_count": 11,
   "metadata": {},
   "outputs": [
    {
     "name": "stdout",
     "output_type": "stream",
     "text": [
      "Citations DataFrame info:\n",
      "root\n",
      " |-- CITING: integer (nullable = true)\n",
      " |-- CITED: integer (nullable = true)\n",
      "\n",
      "Total citations: 16522438\n",
      "\n",
      "Patents DataFrame info:\n",
      "root\n",
      " |-- PATENT: integer (nullable = true)\n",
      " |-- GYEAR: integer (nullable = true)\n",
      " |-- GDATE: integer (nullable = true)\n",
      " |-- APPYEAR: integer (nullable = true)\n",
      " |-- COUNTRY: string (nullable = true)\n",
      " |-- POSTATE: string (nullable = true)\n",
      " |-- ASSIGNEE: integer (nullable = true)\n",
      " |-- ASSCODE: integer (nullable = true)\n",
      " |-- CLAIMS: integer (nullable = true)\n",
      " |-- NCLASS: integer (nullable = true)\n",
      " |-- CAT: integer (nullable = true)\n",
      " |-- SUBCAT: integer (nullable = true)\n",
      " |-- CMADE: integer (nullable = true)\n",
      " |-- CRECEIVE: integer (nullable = true)\n",
      " |-- RATIOCIT: double (nullable = true)\n",
      " |-- GENERAL: double (nullable = true)\n",
      " |-- ORIGINAL: double (nullable = true)\n",
      " |-- FWDAPLAG: double (nullable = true)\n",
      " |-- BCKGTLAG: double (nullable = true)\n",
      " |-- SELFCTUB: double (nullable = true)\n",
      " |-- SELFCTLB: double (nullable = true)\n",
      " |-- SECDUPBD: double (nullable = true)\n",
      " |-- SECDLWBD: double (nullable = true)\n",
      "\n",
      "Total patents: 2923922\n",
      "\n",
      "Null values in citations CITING: 0\n",
      "Null values in citations CITED: 0\n",
      "Null values in patents PATENT: 0\n",
      "Null values in patents POSTATE: 1138933\n"
     ]
    }
   ],
   "source": [
    "# Data Exploration and Cleaning\n",
    "print(\"Citations DataFrame info:\")\n",
    "citations.printSchema()\n",
    "print(f\"Total citations: {citations.count()}\")\n",
    "\n",
    "print(\"\\nPatents DataFrame info:\")\n",
    "patents.printSchema()\n",
    "print(f\"Total patents: {patents.count()}\")\n",
    "\n",
    "# Check for null values in key columns\n",
    "print(f\"\\nNull values in citations CITING: {citations.filter(col('CITING').isNull()).count()}\")\n",
    "print(f\"Null values in citations CITED: {citations.filter(col('CITED').isNull()).count()}\")\n",
    "print(f\"Null values in patents PATENT: {patents.filter(col('PATENT').isNull()).count()}\")\n",
    "print(f\"Null values in patents POSTATE: {patents.filter(col('POSTATE').isNull()).count()}\")"
   ]
  },
  {
   "cell_type": "code",
   "execution_count": 12,
   "metadata": {},
   "outputs": [
    {
     "name": "stdout",
     "output_type": "stream",
     "text": [
      "US patents with state information: 1784989\n"
     ]
    },
    {
     "data": {
      "text/plain": [
       "DataFrame[PATENT: int, GYEAR: int, GDATE: int, APPYEAR: int, COUNTRY: string, POSTATE: string, ASSIGNEE: int, ASSCODE: int, CLAIMS: int, NCLASS: int, CAT: int, SUBCAT: int, CMADE: int, CRECEIVE: int, RATIOCIT: double, GENERAL: double, ORIGINAL: double, FWDAPLAG: double, BCKGTLAG: double, SELFCTUB: double, SELFCTLB: double, SECDUPBD: double, SECDLWBD: double]"
      ]
     },
     "execution_count": 12,
     "metadata": {},
     "output_type": "execute_result"
    }
   ],
   "source": [
    "# Filter patents to only include those with state information (US patents)\n",
    "us_patents = patents.filter(col('POSTATE').isNotNull() & (col('COUNTRY') == 'US'))\n",
    "print(f\"US patents with state information: {us_patents.count()}\")\n",
    "\n",
    "# Cache this since we'll use it multiple times\n",
    "us_patents.cache()"
   ]
  },
  {
   "cell_type": "code",
   "execution_count": 13,
   "metadata": {},
   "outputs": [
    {
     "name": "stdout",
     "output_type": "stream",
     "text": [
      "Citations with cited state info: 9259246\n"
     ]
    },
    {
     "data": {
      "text/plain": [
       "DataFrame[CITING: int, CITED: int, Cited_State: string]"
      ]
     },
     "execution_count": 13,
     "metadata": {},
     "output_type": "execute_result"
    }
   ],
   "source": [
    "# Create the intermediate join table\n",
    "# First, join citations with patents to get the cited patent's state\n",
    "citations_with_cited_state = citations.join(\n",
    "    us_patents.select('PATENT', 'POSTATE').withColumnRenamed('POSTATE', 'Cited_State'),\n",
    "    citations['CITED'] == us_patents['PATENT'],\n",
    "    'inner'\n",
    ").select('CITING', 'CITED', 'Cited_State')\n",
    "\n",
    "print(f\"Citations with cited state info: {citations_with_cited_state.count()}\")\n",
    "\n",
    "# Cache this intermediate result\n",
    "citations_with_cited_state.cache()"
   ]
  },
  {
   "cell_type": "code",
   "execution_count": 14,
   "metadata": {},
   "outputs": [
    {
     "name": "stdout",
     "output_type": "stream",
     "text": [
      "Full citation data with both states: 6920796\n",
      "\n",
      "Sample of intermediate citation data:\n",
      "+-------+-----------+-------+------------+\n",
      "|  CITED|Cited_State| CITING|Citing_State|\n",
      "+-------+-----------+-------+------------+\n",
      "|3815160|         NY|3858597|          MT|\n",
      "|3675252|         AZ|3858597|          MT|\n",
      "|3741706|         OH|3859029|          NY|\n",
      "|3685936|         OH|3859029|          NY|\n",
      "|3368197|         MI|3859627|          MI|\n",
      "|3359539|         CA|3859627|          MI|\n",
      "|3729059|         NY|3859627|          MI|\n",
      "|3381268|         DC|3859627|          MI|\n",
      "|3340523|         FL|3859627|          MI|\n",
      "|3430989|         CA|3860038|          AZ|\n",
      "+-------+-----------+-------+------------+\n",
      "only showing top 10 rows\n",
      "\n"
     ]
    }
   ],
   "source": [
    "# Join with citing patent's state information\n",
    "full_citation_data = citations_with_cited_state.join(\n",
    "    us_patents.select('PATENT', 'POSTATE').withColumnRenamed('POSTATE', 'Citing_State'),\n",
    "    citations_with_cited_state['CITING'] == us_patents['PATENT'],\n",
    "    'inner'\n",
    ").select('CITED', 'Cited_State', 'CITING', 'Citing_State')\n",
    "\n",
    "print(f\"Full citation data with both states: {full_citation_data.count()}\")\n",
    "\n",
    "# Cache this important intermediate result\n",
    "full_citation_data.cache()\n",
    "\n",
    "# Show sample of the intermediate result\n",
    "print(\"\\nSample of intermediate citation data:\")\n",
    "full_citation_data.show(10)"
   ]
  },
  {
   "cell_type": "code",
   "execution_count": 15,
   "metadata": {},
   "outputs": [
    {
     "name": "stdout",
     "output_type": "stream",
     "text": [
      "Same-state citations: 1488330\n",
      "Patents with same-state citations: 571919\n"
     ]
    },
    {
     "data": {
      "text/plain": [
       "DataFrame[CITING: int, Citing_State: string, same_state_count: bigint]"
      ]
     },
     "execution_count": 15,
     "metadata": {},
     "output_type": "execute_result"
    }
   ],
   "source": [
    "# Filter for same-state citations and count them per patent\n",
    "same_state_citations = full_citation_data.filter(\n",
    "    col('Cited_State') == col('Citing_State')\n",
    ")\n",
    "\n",
    "print(f\"Same-state citations: {same_state_citations.count()}\")\n",
    "\n",
    "# Count same-state citations per citing patent\n",
    "same_state_counts = same_state_citations.groupBy('CITING', 'Citing_State').agg(\n",
    "    count('CITED').alias('same_state_count')\n",
    ")\n",
    "\n",
    "print(f\"Patents with same-state citations: {same_state_counts.count()}\")\n",
    "same_state_counts.cache()"
   ]
  },
  {
   "cell_type": "code",
   "execution_count": 16,
   "metadata": {},
   "outputs": [
    {
     "name": "stdout",
     "output_type": "stream",
     "text": [
      "Patent columns:\n"
     ]
    },
    {
     "data": {
      "text/plain": [
       "['PATENT',\n",
       " 'GYEAR',\n",
       " 'GDATE',\n",
       " 'APPYEAR',\n",
       " 'COUNTRY',\n",
       " 'POSTATE',\n",
       " 'ASSIGNEE',\n",
       " 'ASSCODE',\n",
       " 'CLAIMS',\n",
       " 'NCLASS',\n",
       " 'CAT',\n",
       " 'SUBCAT',\n",
       " 'CMADE',\n",
       " 'CRECEIVE',\n",
       " 'RATIOCIT',\n",
       " 'GENERAL',\n",
       " 'ORIGINAL',\n",
       " 'FWDAPLAG',\n",
       " 'BCKGTLAG',\n",
       " 'SELFCTUB',\n",
       " 'SELFCTLB',\n",
       " 'SECDUPBD',\n",
       " 'SECDLWBD']"
      ]
     },
     "execution_count": 16,
     "metadata": {},
     "output_type": "execute_result"
    }
   ],
   "source": [
    "# Join back with original patent data to get all columns\n",
    "# First, let's see what columns we need from the patents table\n",
    "print(\"Patent columns:\")\n",
    "patents.columns"
   ]
  },
  {
   "cell_type": "code",
   "execution_count": 17,
   "metadata": {},
   "outputs": [],
   "source": [
    "# Create the final result with all patent information\n",
    "final_result = us_patents.join(\n",
    "    same_state_counts,\n",
    "    us_patents['PATENT'] == same_state_counts['CITING'],\n",
    "    'left'\n",
    ").select(\n",
    "    us_patents['PATENT'],\n",
    "    us_patents['GYEAR'],\n",
    "    us_patents['GDATE'],\n",
    "    us_patents['APPYEAR'],\n",
    "    us_patents['COUNTRY'],\n",
    "    us_patents['POSTATE'],\n",
    "    us_patents['ASSIGNEE'],\n",
    "    us_patents['ASSCODE'],\n",
    "    us_patents['CLAIMS'],\n",
    "    us_patents['NCLASS'],\n",
    "    us_patents['CAT'],\n",
    "    us_patents['SUBCAT'],\n",
    "    us_patents['CMADE'],\n",
    "    us_patents['CRECEIVE'],\n",
    "    us_patents['RATIOCIT'],\n",
    "    us_patents['GENERAL'],\n",
    "    us_patents['ORIGINAL'],\n",
    "    us_patents['FWDAPLAG'],\n",
    "    us_patents['BCKGTLAG'],\n",
    "    us_patents['SELFCTUB'],\n",
    "    us_patents['SELFCTLB'],\n",
    "    us_patents['SECDUPBD'],\n",
    "    us_patents['SECDLWBD'],\n",
    "    col('same_state_count')\n",
    ")\n",
    "\n",
    "# Replace null same_state_count with 0 for patents that don't cite any same-state patents\n",
    "final_result = final_result.fillna({'same_state_count': 0})"
   ]
  },
  {
   "cell_type": "code",
   "execution_count": 18,
   "metadata": {},
   "outputs": [
    {
     "name": "stdout",
     "output_type": "stream",
     "text": [
      "Top 10 patents with most same-state citations:\n",
      "+-------+-----+-----+-------+-------+-------+--------+-------+------+------+---+------+-----+--------+--------+-------+--------+--------+--------+--------+--------+--------+--------+----------------+\n",
      "| PATENT|GYEAR|GDATE|APPYEAR|COUNTRY|POSTATE|ASSIGNEE|ASSCODE|CLAIMS|NCLASS|CAT|SUBCAT|CMADE|CRECEIVE|RATIOCIT|GENERAL|ORIGINAL|FWDAPLAG|BCKGTLAG|SELFCTUB|SELFCTLB|SECDUPBD|SECDLWBD|same_state_count|\n",
      "+-------+-----+-----+-------+-------+-------+--------+-------+------+------+---+------+-----+--------+--------+-------+--------+--------+--------+--------+--------+--------+--------+----------------+\n",
      "|5959466| 1999|14515|   1997|     US|     CA|    5310|      2|  NULL|   326|  4|    46|  159|       0|     1.0|   NULL|  0.6186|    NULL|  4.8868|  0.0455|   0.044|    NULL|    NULL|             125|\n",
      "|5983822| 1999|14564|   1998|     US|     TX|  569900|      2|  NULL|   114|  5|    55|  200|       0|   0.995|   NULL|  0.7201|    NULL|   12.45|     0.0|     0.0|    NULL|    NULL|             103|\n",
      "|6008204| 1999|14606|   1998|     US|     CA|  749584|      2|  NULL|   514|  3|    31|  121|       0|     1.0|   NULL|  0.7415|    NULL|     5.0|  0.0085|  0.0083|    NULL|    NULL|             100|\n",
      "|5952345| 1999|14501|   1997|     US|     CA|  749584|      2|  NULL|   514|  3|    31|  118|       0|     1.0|   NULL|  0.7442|    NULL|  5.1102|     0.0|     0.0|    NULL|    NULL|              98|\n",
      "|5998655| 1999|14585|   1998|     US|     CA|    NULL|      1|  NULL|   560|  1|    14|  114|       0|     1.0|   NULL|  0.7387|    NULL|  5.1667|    NULL|    NULL|    NULL|    NULL|              96|\n",
      "|5958954| 1999|14515|   1997|     US|     CA|  749584|      2|  NULL|   514|  3|    31|  116|       0|     1.0|   NULL|  0.7397|    NULL|   5.181|     0.0|     0.0|    NULL|    NULL|              96|\n",
      "|5936426| 1999|14466|   1997|     US|     CA|    5310|      2|  NULL|   326|  4|    46|  178|       0|     1.0|   NULL|    0.58|    NULL| 11.2303|  0.0765|   0.073|    NULL|    NULL|              94|\n",
      "|5951547| 1999|14501|   1997|     US|     CA|  733846|      2|  NULL|   606|  3|    32|  242|       0|     1.0|   NULL|  0.7382|    NULL|  8.3471|     0.0|     0.0|    NULL|    NULL|              90|\n",
      "|5978329| 1999|14550|   1995|     US|     CA|  148925|      2|  NULL|   369|  2|    24|  145|       0|     1.0|   NULL|  0.5449|    NULL| 12.9241|  0.4196|  0.4138|    NULL|    NULL|              90|\n",
      "|5739256| 1998|13983|   1995|     US|     CA|   70060|      2|    15|   528|  1|    15|  453|       0|     1.0|   NULL|  0.8232|    NULL| 15.1104|  0.1124|  0.1082|    NULL|    NULL|              90|\n",
      "+-------+-----+-----+-------+-------+-------+--------+-------+------+------+---+------+-----+--------+--------+-------+--------+--------+--------+--------+--------+--------+--------+----------------+\n",
      "\n"
     ]
    }
   ],
   "source": [
    "# Get top 10 patents with most same-state citations\n",
    "top_10_same_state = final_result.filter(\n",
    "    col('same_state_count') > 0\n",
    ").orderBy(\n",
    "    desc('same_state_count')\n",
    ").limit(10)\n",
    "\n",
    "print(\"Top 10 patents with most same-state citations:\")\n",
    "top_10_same_state.show()"
   ]
  },
  {
   "cell_type": "code",
   "execution_count": 19,
   "metadata": {},
   "outputs": [
    {
     "name": "stdout",
     "output_type": "stream",
     "text": [
      "\n",
      "Verifying results for the top patent:\n",
      "Top patent: 5959466 from CA\n",
      "Total citations by this patent: 144\n",
      "Same-state citations: 125\n",
      "Sample same-state citations:\n",
      "+-------+-----------+-------+------------+\n",
      "|  CITED|Cited_State| CITING|Citing_State|\n",
      "+-------+-----------+-------+------------+\n",
      "|5349249|         CA|5959466|          CA|\n",
      "|5600264|         CA|5959466|          CA|\n",
      "|5357153|         CA|5959466|          CA|\n",
      "|5600263|         CA|5959466|          CA|\n",
      "|4527115|         CA|5959466|          CA|\n",
      "|5598108|         CA|5959466|          CA|\n",
      "|5068603|         CA|5959466|          CA|\n",
      "|5530378|         CA|5959466|          CA|\n",
      "|5631577|         CA|5959466|          CA|\n",
      "|5448493|         CA|5959466|          CA|\n",
      "+-------+-----------+-------+------------+\n",
      "only showing top 10 rows\n",
      "\n"
     ]
    }
   ],
   "source": [
    "# Verify our results by checking one of the top patents\n",
    "print(\"\\nVerifying results for the top patent:\")\n",
    "top_patent = top_10_same_state.first()\n",
    "top_patent_id = top_patent['PATENT']\n",
    "top_patent_state = top_patent['POSTATE']\n",
    "\n",
    "print(f\"Top patent: {top_patent_id} from {top_patent_state}\")\n",
    "\n",
    "# Get all citations made by this patent\n",
    "top_patent_citations = full_citation_data.filter(\n",
    "    col('CITING') == top_patent_id\n",
    ")\n",
    "\n",
    "print(f\"Total citations by this patent: {top_patent_citations.count()}\")\n",
    "\n",
    "same_state_for_top = top_patent_citations.filter(\n",
    "    col('Citing_State') == col('Cited_State')\n",
    ")\n",
    "\n",
    "print(f\"Same-state citations: {same_state_for_top.count()}\")\n",
    "print(\"Sample same-state citations:\")\n",
    "same_state_for_top.show(10)"
   ]
  },
  {
   "cell_type": "code",
   "execution_count": 20,
   "metadata": {},
   "outputs": [
    {
     "name": "stdout",
     "output_type": "stream",
     "text": [
      "Solution implemented successfully!\n"
     ]
    }
   ],
   "source": [
    "# Clean up - unpersist cached DataFrames\n",
    "us_patents.unpersist()\n",
    "citations_with_cited_state.unpersist()\n",
    "full_citation_data.unpersist()\n",
    "same_state_counts.unpersist()\n",
    "\n",
    "print(\"Solution implemented successfully!\")"
   ]
  },
  {
   "cell_type": "code",
   "execution_count": null,
   "metadata": {},
   "outputs": [],
   "source": []
  }
 ],
 "metadata": {
  "kernelspec": {
   "display_name": "Python 3 (ipykernel)",
   "language": "python",
   "name": "python3"
  },
  "language_info": {
   "codemirror_mode": {
    "name": "ipython",
    "version": 3
   },
   "file_extension": ".py",
   "mimetype": "text/x-python",
   "name": "python",
   "nbconvert_exporter": "python",
   "pygments_lexer": "ipython3",
   "version": "3.11.9"
  }
 },
 "nbformat": 4,
 "nbformat_minor": 4
}
